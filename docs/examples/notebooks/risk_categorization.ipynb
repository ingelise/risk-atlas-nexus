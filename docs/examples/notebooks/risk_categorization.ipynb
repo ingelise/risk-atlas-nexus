{
 "cells": [
  {
   "cell_type": "markdown",
   "id": "08e6d17c",
   "metadata": {},
   "source": [
    "## Risk Categorization\n",
    "\n",
    "Categorize the severity of risks linked to an AI system usecase, which includes the domain, purpose, capabilities, AI user, and AI subject.\n",
    "\n",
    "#### Load libaries.\n"
   ]
  },
  {
   "cell_type": "code",
   "execution_count": 8,
   "id": "ffade2b2",
   "metadata": {},
   "outputs": [],
   "source": [
    "from risk_atlas_nexus.blocks.inference import OllamaInferenceEngine\n",
    "from risk_atlas_nexus.blocks.inference.params import (\n",
    "    InferenceEngineCredentials,\n",
    "    OllamaInferenceEngineParams,\n",
    ")\n",
    "from risk_atlas_nexus.library import RiskAtlasNexus"
   ]
  },
  {
   "cell_type": "markdown",
   "id": "f1037a9f",
   "metadata": {},
   "source": [
    "##### Risk Atlas Nexus uses Large Language Models (LLMs) to infer risks dimensions. Therefore requires access to LLMs to inference or call the model.\n",
    "\n",
    "**Available Inference Engines**: WML, Ollama, vLLM, RITS. Please follow the [Inference APIs](https://github.com/IBM/risk-atlas-nexus?tab=readme-ov-file#install-for-inference-apis) guide before going ahead.\n",
    "\n",
    "_Note:_ RITS is intended solely for internal IBM use and requires TUNNELALL VPN for access.\n"
   ]
  },
  {
   "cell_type": "code",
   "execution_count": 2,
   "id": "fb6bc37b",
   "metadata": {},
   "outputs": [
    {
     "name": "stderr",
     "output_type": "stream",
     "text": [
      "[2025-06-15 21:02:59:957] - INFO - RiskAtlasNexus - OLLAMA inference engine will execute requests on the server at http://localhost:11434.\n",
      "[2025-06-15 21:03:00:8] - INFO - RiskAtlasNexus - Created OLLAMA inference engine.\n"
     ]
    }
   ],
   "source": [
    "inference_engine = OllamaInferenceEngine(\n",
    "    model_name_or_path=\"granite3.2:8b\",\n",
    "    credentials=InferenceEngineCredentials(api_url=\"OLLAMA_API_URL\"),\n",
    "    parameters=OllamaInferenceEngineParams(\n",
    "        num_predict=1000, temperature=0, repeat_penalty=1, num_ctx=13750\n",
    "    ),\n",
    ")"
   ]
  },
  {
   "cell_type": "markdown",
   "id": "15f64a0d",
   "metadata": {},
   "source": [
    "#### Create an instance of RiskAtlasNexus\n"
   ]
  },
  {
   "cell_type": "code",
   "execution_count": 3,
   "id": "11c38385",
   "metadata": {},
   "outputs": [
    {
     "name": "stderr",
     "output_type": "stream",
     "text": [
      "[2025-06-15 21:03:00:120] - INFO - RiskAtlasNexus - Created RiskAtlasNexus instance. Base_dir: None\n"
     ]
    }
   ],
   "source": [
    "risk_atlas_nexus = RiskAtlasNexus()"
   ]
  },
  {
   "cell_type": "markdown",
   "id": "239d7a5c",
   "metadata": {},
   "source": [
    "#### Prepare Use cases\n"
   ]
  },
  {
   "cell_type": "code",
   "execution_count": 10,
   "id": "5f0ac540",
   "metadata": {},
   "outputs": [
    {
     "name": "stdout",
     "output_type": "stream",
     "text": [
      "usecase_1:  Generate personalized, relevant responses, recommendations, and summaries of claims for customers to support agents to enhance their interactions with customers.\n",
      "\n",
      "usecase_2:  An AI system is used by a consortium of universities and financial institutions to both assess student academic performance and determine their eligibility and risk level for student loans. The system automatically evaluates students' historical academic data, standardized test results, socio-economic background, behavioral data from educational platforms, and other digital footprints (e.g., attendance, participation, learning pace).\n"
     ]
    }
   ],
   "source": [
    "usecase_1 = \"Generate personalized, relevant responses, recommendations, and summaries of claims for customers to support agents to enhance their interactions with customers.\"\n",
    "print(\"usecase_1: \", usecase_1)\n",
    "print()\n",
    "usecase_2 = \"An AI system is used by a consortium of universities and financial institutions to both assess student academic performance and determine their eligibility and risk level for student loans. The system automatically evaluates students' historical academic data, standardized test results, socio-economic background, behavioral data from educational platforms, and other digital footprints (e.g., attendance, participation, learning pace).\"\n",
    "print(\"usecase_2: \", usecase_2)"
   ]
  },
  {
   "cell_type": "markdown",
   "id": "088545df",
   "metadata": {},
   "source": [
    "#### Invoking Risk Categorization Service on usecase_1 and usecase_2\n",
    "\n",
    "The API receives a list of usecases along with an inference engine instance for LLM evaluation. It extracts key attributes - domain, purpose, capabilities, AI user, and AI subject—from each usecase. These attributes are then sent to the categorization service `RiskSeverityCategorizer.categorize()` to determine the Risk Severity and retrieve related information.\n",
    "\n",
    "\n",
    "**API:** RiskAtlasNexus.categorize_risk_severity()\n",
    "\n",
    "**Params:**\n",
    " - usecases (List[str]):\n",
    "        A List of strings describing AI usecases\n",
    " - inference_engine (InferenceEngine):\n",
    "        An LLM inference engine\n",
    "\n",
    "**Returns:**\n",
    " - results (List[Dict]):\n",
    "        Results detailing risk categorization by usecase.\n"
   ]
  },
  {
   "cell_type": "code",
   "execution_count": null,
   "id": "5fcd3474",
   "metadata": {},
   "outputs": [
    {
     "name": "stderr",
     "output_type": "stream",
     "text": [
      "[2025-06-15 21:03:08:136] - INFO - RiskAtlasNexus - AI Domain: Customer service/support\n",
      "[2025-06-15 21:04:58:832] - INFO - RiskAtlasNexus - AI Domain: Risk and Compliance\n"
     ]
    }
   ],
   "source": [
    "response = risk_atlas_nexus.categorize_risk_severity(\n",
    "    usecases=[usecase_1, usecase_2], inference_engine=inference_engine\n",
    ")"
   ]
  },
  {
   "cell_type": "markdown",
   "id": "8c0a9e6d",
   "metadata": {},
   "source": [
    "#### Risk Severity Information\n",
    "\n",
    "The response object has four fields:\n",
    " - Description: The description of the AI System inferred from the usecase.\n",
    " - Classification: The risk severity classification label\n",
    "    1) Excluded,\n",
    "    2) Prohibited,\n",
    "    3) High-Risk Exception,\n",
    "    4) High Risk, and\n",
    "    5) Limited or Low Risk.\n",
    " - AIActText: EU AI Act section that closely resembles the AI System including any amendments.\n",
    " - Reasoning: Explanation of the risk classification."
   ]
  },
  {
   "cell_type": "markdown",
   "id": "6b480349",
   "metadata": {},
   "source": [
    "##### Response for usecase_1"
   ]
  },
  {
   "cell_type": "code",
   "execution_count": 6,
   "id": "dc42d0a9",
   "metadata": {},
   "outputs": [
    {
     "data": {
      "text/plain": [
       "{'Description': 'The AI system intended to be used in customer service/support to provide personalized, contextually relevant information and recommendations to support agents, enhancing their ability to address customer inquiries and claims effectively and efficiently through Natural Language Generation, Sentiment Analysis, Recommendation Engine, and Chatbot Integration.',\n",
       " 'Classification': 'Limited or Low Risk',\n",
       " 'AIActText': \"This classification is based on the general principles of the EU AI Act, particularly Recital 58 which states that AI systems used to evaluate the credit score or creditworthiness of natural persons should be classified as high-risk AI systems, since they determine those persons' access to financial resources or essential services. However, the system described does not appear to fall under this category as it is primarily focused on improving customer service efficiency rather than determining creditworthiness.\",\n",
       " 'Reasoning': 'The AI system is not classified as Prohibited, High-Risk Exception, or High Risk as it does not involve any of the prohibited practices (Article 5) or high-risk activities (Article 6) such as subliminal techniques, exploiting vulnerabilities, biometric categorization, social scoring, predictive policing, or expanding facial recognition databases. It also does not fall under the High-Risk Exception categories like civil aviation security, two- or three-wheels vehicles, agricultural and forestry vehicles, marine equipment, interoperability of the rail system, motor vehicles, civil aviation, or critical infrastructure management. Instead, it is considered Limited or Low Risk as it primarily aims to enhance customer service efficiency through personalized responses and recommendations, without posing significant risks to health, safety, or fundamental rights.'}"
      ]
     },
     "execution_count": 6,
     "metadata": {},
     "output_type": "execute_result"
    }
   ],
   "source": [
    "response[0]"
   ]
  },
  {
   "cell_type": "markdown",
   "id": "c0de239b",
   "metadata": {},
   "source": [
    "##### Response for usecase_2"
   ]
  },
  {
   "cell_type": "code",
   "execution_count": 7,
   "id": "32320936",
   "metadata": {},
   "outputs": [
    {
     "data": {
      "text/plain": [
       "{'Description': 'The AI system intended to be used is a machine learning model that analyzes historical academic data, standardized test results, socio-economic background, behavioral data, and digital footprints to predict student academic performance and loan eligibility/risk level, utilizing natural language processing and predictive analytics.',\n",
       " 'Classification': 'High Risk',\n",
       " 'AIActText': 'Article 6(2) - AI systems intended to be used for the purpose of assessing the appropriate level of education that an individual will receive or will be able to access, in the context of or within educational and vocational training institutions at all levels.',\n",
       " 'Reasoning': \"The system falls under the 'High Risk' category as per Article 6(2) of the EU AI Act, specifically under the 'Education and vocational training' section. It is intended to assess the level of education for individuals, which can materially influence their educational and professional course, potentially affecting their ability to secure a livelihood. This system may perpetuate historical patterns of discrimination and violate the right to education and training, as well as the right not to be discriminated against.\"}"
      ]
     },
     "execution_count": 7,
     "metadata": {},
     "output_type": "execute_result"
    }
   ],
   "source": [
    "response[1]"
   ]
  }
 ],
 "metadata": {
  "kernelspec": {
   "display_name": "vrisk-atlas-nexus",
   "language": "python",
   "name": "python3"
  },
  "language_info": {
   "codemirror_mode": {
    "name": "ipython",
    "version": 3
   },
   "file_extension": ".py",
   "mimetype": "text/x-python",
   "name": "python",
   "nbconvert_exporter": "python",
   "pygments_lexer": "ipython3",
   "version": "3.11.11"
  }
 },
 "nbformat": 4,
 "nbformat_minor": 5
}
