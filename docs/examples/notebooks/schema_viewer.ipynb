{
 "cells": [
  {
   "cell_type": "markdown",
   "id": "1dfa9372",
   "metadata": {},
   "source": [
    "# Using Schemaview to introspect Risk Atlas Nexus \n",
    "The SchemaView class in the linkml-runtime provides a method for dynamically introspecting and manipulating schemas.  This can be used to programatically explore or edit the Risk Atlas Nexus.\n",
    "\n",
    "- [Schemaview reference](https://linkml.io/linkml/developers/schemaview.html)\n",
    "\n",
    "## Introspection\n",
    "The following cells show some examples of how you can examine the contents of the schema."
   ]
  },
  {
   "cell_type": "code",
   "execution_count": 94,
   "id": "4610f20c",
   "metadata": {},
   "outputs": [],
   "source": [
    "from linkml_runtime.utils.schemaview import SchemaView\n",
    "from linkml_runtime.linkml_model.meta import (\n",
    "    ClassDefinition,\n",
    ")\n",
    "from risk_atlas_nexus.library import RiskAtlasNexus"
   ]
  },
  {
   "cell_type": "code",
   "execution_count": 95,
   "id": "401cd1cc",
   "metadata": {},
   "outputs": [
    {
     "name": "stderr",
     "output_type": "stream",
     "text": [
      "[2025-08-25 22:52:49:941] - INFO - RiskAtlasNexus - Created RiskAtlasNexus instance. Base_dir: None\n"
     ]
    }
   ],
   "source": [
    "ran = risk_atlas_nexus = RiskAtlasNexus()\n",
    "view = ran.get_schema() # get the schemaview object\n",
    "\n",
    "# Alternatively, load a schema from file\n",
    "# view = SchemaView(\"<YOUR_LOCAL_PATH>/risk-atlas-nexus/src/risk_atlas_nexus/ai_risk_ontology/schema/ai-risk-ontology.yaml\")\n"
   ]
  },
  {
   "cell_type": "markdown",
   "id": "f8e40eaa",
   "metadata": {},
   "source": [
    "### Return a list of all imports:"
   ]
  },
  {
   "cell_type": "code",
   "execution_count": 96,
   "id": "80106380",
   "metadata": {},
   "outputs": [
    {
     "data": {
      "text/plain": [
       "['linkml:types',\n",
       " 'common',\n",
       " 'ai_risk',\n",
       " 'ai_system',\n",
       " 'ai_eval',\n",
       " 'energy',\n",
       " 'eu_ai_act',\n",
       " 'ai_intrinsic',\n",
       " 'ai-risk-ontology']"
      ]
     },
     "execution_count": 96,
     "metadata": {},
     "output_type": "execute_result"
    }
   ],
   "source": [
    "view.imports_closure()"
   ]
  },
  {
   "cell_type": "markdown",
   "id": "ffd72fb8",
   "metadata": {},
   "source": [
    "### Check size of classes, slots, subsets\n",
    "We will use these for comparison later in the notebook, to verify if new items are added or removed from graph"
   ]
  },
  {
   "cell_type": "code",
   "execution_count": 97,
   "id": "64bf4594",
   "metadata": {},
   "outputs": [
    {
     "data": {
      "text/plain": [
       "(50, 128, 0)"
      ]
     },
     "execution_count": 97,
     "metadata": {},
     "output_type": "execute_result"
    }
   ],
   "source": [
    "# view length of (classes, slots, subsets)\n",
    "len(view.all_classes()), len(view.all_slots()), len(view.all_subsets())"
   ]
  },
  {
   "cell_type": "markdown",
   "id": "cf01517a",
   "metadata": {},
   "source": [
    "### See the ancestors of a class\n",
    "You may wish to know the ancestors of a class in the graph, so can use this method to return the closure of class_parents method."
   ]
  },
  {
   "cell_type": "code",
   "execution_count": 98,
   "id": "fcecb570",
   "metadata": {},
   "outputs": [
    {
     "data": {
      "text/plain": [
       "['Risk', 'RiskConcept', 'Entity']"
      ]
     },
     "execution_count": 98,
     "metadata": {},
     "output_type": "execute_result"
    }
   ],
   "source": [
    "view.class_ancestors(\"Risk\")"
   ]
  },
  {
   "cell_type": "markdown",
   "id": "581cc82e",
   "metadata": {},
   "source": [
    "### See the CURIEs or URIs of a classes ancestors\n",
    "Return the CURIE or URI for each schema element which is an ancestor of the specified class.\n",
    "The method allows to also expand the CURIE to a URI; defaults to False."
   ]
  },
  {
   "cell_type": "code",
   "execution_count": 99,
   "id": "d2af24a8",
   "metadata": {},
   "outputs": [
    {
     "data": {
      "text/plain": [
       "['airo:Risk', 'airo:RiskConcept', 'schema:Thing']"
      ]
     },
     "execution_count": 99,
     "metadata": {},
     "output_type": "execute_result"
    }
   ],
   "source": [
    "[view.get_uri(c) for c in view.class_ancestors(\"Risk\")]"
   ]
  },
  {
   "cell_type": "code",
   "execution_count": 100,
   "id": "4d76f3f1",
   "metadata": {},
   "outputs": [
    {
     "data": {
      "text/plain": [
       "['https://w3id.org/airo#Risk',\n",
       " 'https://w3id.org/airo#RiskConcept',\n",
       " 'http://schema.org/Thing']"
      ]
     },
     "execution_count": 100,
     "metadata": {},
     "output_type": "execute_result"
    }
   ],
   "source": [
    "[view.get_uri(c, expand=True) for c in view.class_ancestors(\"Risk\")]"
   ]
  },
  {
   "cell_type": "markdown",
   "id": "1d6c77c4",
   "metadata": {},
   "source": [
    "### See the ancestors of a class without mixins\n",
    "You may wish to know the ancestors of a class in the graph, but without the mixin classes."
   ]
  },
  {
   "cell_type": "code",
   "execution_count": 101,
   "id": "fafd3d60",
   "metadata": {},
   "outputs": [
    {
     "data": {
      "text/plain": [
       "['Risk', 'Entity']"
      ]
     },
     "execution_count": 101,
     "metadata": {},
     "output_type": "execute_result"
    }
   ],
   "source": [
    "view.class_ancestors(\"Risk\", mixins=False)"
   ]
  },
  {
   "cell_type": "markdown",
   "id": "c97eb523",
   "metadata": {},
   "source": [
    "### See the ancestors of a slot\n",
    "See the ancestors, or children of a slot, if any"
   ]
  },
  {
   "cell_type": "code",
   "execution_count": 102,
   "id": "1c6dbd18",
   "metadata": {},
   "outputs": [
    {
     "data": {
      "text/plain": [
       "['refersToRisk']"
      ]
     },
     "execution_count": 102,
     "metadata": {},
     "output_type": "execute_result"
    }
   ],
   "source": [
    "view.slot_ancestors(\"refersToRisk\")"
   ]
  },
  {
   "cell_type": "code",
   "execution_count": 103,
   "id": "32a29bc9",
   "metadata": {},
   "outputs": [
    {
     "data": {
      "text/plain": [
       "[]"
      ]
     },
     "execution_count": 103,
     "metadata": {},
     "output_type": "execute_result"
    }
   ],
   "source": [
    "view.slot_children(\"refersToRisk\")"
   ]
  },
  {
   "cell_type": "markdown",
   "id": "618cc4fd",
   "metadata": {},
   "source": [
    "# Examine mappings and annotations of a slot\n",
    "Let's take as an example the slot \"refersToRisk\" "
   ]
  },
  {
   "cell_type": "code",
   "execution_count": 104,
   "id": "3421061c",
   "metadata": {},
   "outputs": [
    {
     "data": {
      "text/plain": [
       "SlotDefinition({\n",
       "  'name': 'refersToRisk',\n",
       "  'description': ('Indicates the incident (subject) is a materialisation of the indicated risk '\n",
       "     '(object)'),\n",
       "  'from_schema': 'https://ibm.github.io/risk-atlas-nexus/ontology/ai_risk',\n",
       "  'exact_mappings': ['dpv:refersToRisk'],\n",
       "  'domain': 'RiskIncident',\n",
       "  'range': 'Risk',\n",
       "  'multivalued': True,\n",
       "  'inlined': False\n",
       "})"
      ]
     },
     "execution_count": 104,
     "metadata": {},
     "output_type": "execute_result"
    }
   ],
   "source": [
    "refersToRisk = view.get_slot(\"refersToRisk\")\n",
    "refersToRisk"
   ]
  },
  {
   "cell_type": "code",
   "execution_count": 105,
   "id": "6c65832a",
   "metadata": {},
   "outputs": [
    {
     "data": {
      "text/plain": [
       "['dpv:refersToRisk']"
      ]
     },
     "execution_count": 105,
     "metadata": {},
     "output_type": "execute_result"
    }
   ],
   "source": [
    "# get the exact mappings\n",
    "refersToRisk.exact_mappings"
   ]
  },
  {
   "cell_type": "code",
   "execution_count": 106,
   "id": "049262fb",
   "metadata": {},
   "outputs": [
    {
     "data": {
      "text/plain": [
       "{'self': ['nexus:refersToRisk'],\n",
       " 'native': ['nexus:refersToRisk'],\n",
       " 'exact': ['dpv:refersToRisk'],\n",
       " 'narrow': [],\n",
       " 'broad': [],\n",
       " 'related': [],\n",
       " 'close': [],\n",
       " 'undefined': []}"
      ]
     },
     "execution_count": 106,
     "metadata": {},
     "output_type": "execute_result"
    }
   ],
   "source": [
    "# get mappings related to this slot from the schemaview\n",
    "view.get_mappings(refersToRisk.name)"
   ]
  },
  {
   "cell_type": "code",
   "execution_count": 107,
   "id": "b1c859dc",
   "metadata": {},
   "outputs": [
    {
     "data": {
      "text/plain": [
       "{'self': ['https://ibm.github.io/risk-atlas-nexus/ontology/refersToRisk'],\n",
       " 'native': ['https://ibm.github.io/risk-atlas-nexus/ontology/refersToRisk'],\n",
       " 'exact': ['https://w3c.github.io/dpv/2.1/dpv/#refersToRisk'],\n",
       " 'narrow': [],\n",
       " 'broad': [],\n",
       " 'related': [],\n",
       " 'close': [],\n",
       " 'undefined': []}"
      ]
     },
     "execution_count": 107,
     "metadata": {},
     "output_type": "execute_result"
    }
   ],
   "source": [
    "# get mappings related to this slot from the schemaview, expanded URIs\n",
    "view.get_mappings(refersToRisk.name, expand=True)"
   ]
  },
  {
   "cell_type": "code",
   "execution_count": 108,
   "id": "18f44511",
   "metadata": {},
   "outputs": [
    {
     "data": {
      "text/plain": [
       "['RiskIncident']"
      ]
     },
     "execution_count": 108,
     "metadata": {},
     "output_type": "execute_result"
    }
   ],
   "source": [
    "# the classes that make use of this slot\n",
    "view.get_classes_by_slot(refersToRisk)"
   ]
  },
  {
   "cell_type": "code",
   "execution_count": 109,
   "id": "6bd654c7",
   "metadata": {},
   "outputs": [
    {
     "data": {
      "text/plain": [
       "SlotDefinition({\n",
       "  'name': 'refersToRisk',\n",
       "  'description': ('Indicates the incident (subject) is a materialisation of the indicated risk '\n",
       "     '(object)'),\n",
       "  'from_schema': 'https://ibm.github.io/risk-atlas-nexus/ontology/ai_risk',\n",
       "  'exact_mappings': ['dpv:refersToRisk'],\n",
       "  'domain': 'RiskIncident',\n",
       "  'range': 'Risk',\n",
       "  'multivalued': True,\n",
       "  'inlined': False\n",
       "})"
      ]
     },
     "execution_count": 109,
     "metadata": {},
     "output_type": "execute_result"
    }
   ],
   "source": [
    "e = view.get_element(\"refersToRisk\")\n",
    "e"
   ]
  },
  {
   "cell_type": "markdown",
   "id": "85d3bcb7",
   "metadata": {},
   "source": [
    "## Manipulation\n",
    "\n",
    "You may wish to add or remove schema attributes.  Using the schemaview, you can add classes, slots, etc. dynamically to the schema. \n",
    "\n",
    "### Example: adding classes\n",
    "Let's add a new class to the schema, `my_new_class`"
   ]
  },
  {
   "cell_type": "code",
   "execution_count": 110,
   "id": "e174e8fd",
   "metadata": {},
   "outputs": [
    {
     "name": "stdout",
     "output_type": "stream",
     "text": [
      "50 128 0\n"
     ]
    },
    {
     "data": {
      "text/plain": [
       "ClassDefinition({\n",
       "  'name': 'my_new_class',\n",
       "  'description': 'my new class description',\n",
       "  'from_schema': 'https://ibm.github.io/risk-atlas-nexus/ontology/ai-risk-ontology',\n",
       "  'is_a': 'Entity'\n",
       "})"
      ]
     },
     "execution_count": 110,
     "metadata": {},
     "output_type": "execute_result"
    }
   ],
   "source": [
    "my_new_class = ClassDefinition(\"my_new_class\", is_a=\"Entity\", description=\"my new class description\", slots=None)\n",
    "view.add_class(my_new_class)\n",
    "\n",
    "# we can see class count has gone up\n",
    "# view length of (classes, slots, subsets)\n",
    "print(len(view.all_classes()), len(view.all_slots()), len(view.all_subsets()))\n",
    "\n",
    "# we can see the new class\n",
    "view.get_class(\"my_new_class\")\n"
   ]
  },
  {
   "cell_type": "markdown",
   "id": "c133bd3e",
   "metadata": {},
   "source": [
    "### Example: extending the schema \n",
    "Another option could be to define a whole new schema, and then to merge it into the other schema.\n",
    "You could load it from a file, or construct it dynamically."
   ]
  },
  {
   "cell_type": "code",
   "execution_count": null,
   "id": "e03318fc",
   "metadata": {},
   "outputs": [
    {
     "data": {
      "text/plain": [
       "SchemaDefinition({\n",
       "  'name': 'sample_additional_schema',\n",
       "  'description': 'A sample_additional_schema for an example notebook',\n",
       "  'id': 'https://ibm.github.io/risk-atlas-nexus/ontology/sample_additional_schema',\n",
       "  'imports': ['linkml:types'],\n",
       "  'prefixes': {'linkml': Prefix({'prefix_prefix': 'linkml', 'prefix_reference': 'https://w3id.org/linkml/'}),\n",
       "    'airo': Prefix({'prefix_prefix': 'airo', 'prefix_reference': 'https://w3id.org/airo#'}),\n",
       "    'nexus': Prefix({\n",
       "      'prefix_prefix': 'nexus',\n",
       "      'prefix_reference': 'https://ibm.github.io/risk-atlas-nexus/ontology/'\n",
       "    }),\n",
       "    'dpv': Prefix({'prefix_prefix': 'dpv', 'prefix_reference': 'https://w3c.github.io/dpv/2.1/dpv/#'}),\n",
       "    'ai': Prefix({'prefix_prefix': 'ai', 'prefix_reference': 'https://w3c.github.io/dpv/2.1/ai/#'})},\n",
       "  'default_curi_maps': ['semweb_context'],\n",
       "  'default_prefix': 'nexus',\n",
       "  'default_range': 'string',\n",
       "  'classes': {'SampleItem': ClassDefinition({\n",
       "      'name': 'SampleItem',\n",
       "      'description': 'A sample_additional_schema item',\n",
       "      'abstract': True,\n",
       "      'slots': ['id', 'name', 'description', 'url', 'dateCreated', 'dateModified'],\n",
       "      'class_uri': 'schema:Thing'\n",
       "    })},\n",
       "  'source_file': '/Users/ingevejs/Documents/workspace/ingelise/risk-atlas-nexus/docs/examples/notebooks/example_samples/sample_additional_schema.yaml'\n",
       "})"
      ]
     },
     "execution_count": 112,
     "metadata": {},
     "output_type": "execute_result"
    }
   ],
   "source": [
    "# Load from a file\n",
    "new_schema = view.load_import(\"<YOUR_LOCAL_PATH>/docs/examples/notebooks/example_samples/sample_additional_schema\")\n",
    "new_schema"
   ]
  },
  {
   "cell_type": "markdown",
   "id": "df5e65a9",
   "metadata": {},
   "source": [
    "### Merge the schema\n",
    "Merge the new schema, and observe the class count rising."
   ]
  },
  {
   "cell_type": "code",
   "execution_count": 118,
   "id": "d938a139",
   "metadata": {},
   "outputs": [
    {
     "name": "stdout",
     "output_type": "stream",
     "text": [
      "52 131 0\n"
     ]
    }
   ],
   "source": [
    "view.merge_schema(new_schema)\n",
    "\n",
    "# we can see class count has gone up\n",
    "# view length of (classes, slots, subsets)\n",
    "print(len(view.all_classes()), len(view.all_slots()), len(view.all_subsets()))\n"
   ]
  },
  {
   "cell_type": "markdown",
   "id": "bb0d2acf",
   "metadata": {},
   "source": [
    "# Construct dynamically\n",
    "Construct the schema dynamically"
   ]
  },
  {
   "cell_type": "code",
   "execution_count": 119,
   "id": "0aa91a0b",
   "metadata": {},
   "outputs": [
    {
     "name": "stdout",
     "output_type": "stream",
     "text": [
      "SchemaDefinition({\n",
      "  'name': 'test-schema',\n",
      "  'id': 'http://example.org/test-schema',\n",
      "  'default_prefix': 'http://example.org/test-schema/',\n",
      "  'slots': {'someslot': SlotDefinition({'name': 'someslot'}),\n",
      "    'someslot_two': SlotDefinition({'name': 'someslot_two'}),\n",
      "    'someslot_three': SlotDefinition({'name': 'someslot_three'})},\n",
      "  'classes': {'TestClassTwo': ClassDefinition({'name': 'TestClassTwo', 'slots': ['someslot', 'someslot_two']}),\n",
      "    'TestClassThree': ClassDefinition({'name': 'TestClassThree', 'slots': ['someslot', 'someslot_three']})}\n",
      "})\n"
     ]
    }
   ],
   "source": [
    "from linkml.utils.schema_builder import SchemaBuilder\n",
    "sb = SchemaBuilder('test-schema')\n",
    "sb.add_class('TestClassTwo', slots=['someslot', 'someslot_two'])\n",
    "sb.add_class('TestClassThree', slots=['someslot', 'someslot_three'])\n",
    "new_schema2 = sb.schema\n",
    "print(new_schema2)"
   ]
  },
  {
   "cell_type": "code",
   "execution_count": 120,
   "id": "6f81f9d0",
   "metadata": {},
   "outputs": [
    {
     "name": "stdout",
     "output_type": "stream",
     "text": [
      "52 131 0\n"
     ]
    }
   ],
   "source": [
    "view.merge_schema(new_schema2)\n",
    "\n",
    "# we can see class count has now gone up\n",
    "# view length of (classes, slots, subsets)\n",
    "print(len(view.all_classes()), len(view.all_slots()), len(view.all_subsets()))"
   ]
  },
  {
   "cell_type": "markdown",
   "id": "168ed844",
   "metadata": {},
   "source": []
  }
 ],
 "metadata": {
  "kernelspec": {
   "display_name": "vrisk-atlas-nexus",
   "language": "python",
   "name": "python3"
  },
  "language_info": {
   "codemirror_mode": {
    "name": "ipython",
    "version": 3
   },
   "file_extension": ".py",
   "mimetype": "text/x-python",
   "name": "python",
   "nbconvert_exporter": "python",
   "pygments_lexer": "ipython3",
   "version": "3.12.4"
  }
 },
 "nbformat": 4,
 "nbformat_minor": 5
}
